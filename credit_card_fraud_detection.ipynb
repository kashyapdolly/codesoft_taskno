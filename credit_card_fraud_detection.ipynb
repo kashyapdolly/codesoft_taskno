{
  "nbformat": 4,
  "nbformat_minor": 0,
  "metadata": {
    "colab": {
      "private_outputs": true,
      "provenance": []
    },
    "kernelspec": {
      "name": "python3",
      "display_name": "Python 3"
    },
    "language_info": {
      "name": "python"
    }
  },
  "cells": [
    {
      "cell_type": "code",
      "execution_count": null,
      "metadata": {
        "id": "0dy--swZYCFN"
      },
      "outputs": [],
      "source": [
        "import warnings\n",
        "import numpy as np\n",
        "import pandas as pd\n",
        "import matplotlib.pyplot as plt\n",
        "import seaborn as sns\n",
        "plt.style.use('fivethirtyeight')\n",
        "%matplotlib inline\n",
        "warnings.filterwarnings('ignore')"
      ]
    },
    {
      "cell_type": "code",
      "source": [
        "#Data acquisition of the movies dataset\n",
        "from google.colab import drive\n",
        "drive.mount('/content/drive')\n",
        "data = pd.read_csv('/content/drive/My Drive/collab_data/Intership_data/creditcard.csv')\n"
      ],
      "metadata": {
        "id": "TIIAGW3eYTqM"
      },
      "execution_count": null,
      "outputs": []
    },
    {
      "cell_type": "code",
      "source": [
        "print(data.columns)"
      ],
      "metadata": {
        "id": "KGOTTaz3YTva"
      },
      "execution_count": null,
      "outputs": []
    },
    {
      "cell_type": "code",
      "source": [
        "data.shape"
      ],
      "metadata": {
        "id": "xZD7FZwfYZY9"
      },
      "execution_count": null,
      "outputs": []
    },
    {
      "cell_type": "code",
      "source": [
        "# plot the histogram of each parameter\n",
        "data.hist(figsize = (20, 20))\n",
        "plt.show()"
      ],
      "metadata": {
        "id": "EeCpmlMOYcIE"
      },
      "execution_count": null,
      "outputs": []
    },
    {
      "cell_type": "code",
      "source": [
        "# correlation matrix\n",
        "corrmat = data.corr()\n",
        "fig = plt.figure(figsize = (12, 9))\n",
        "\n",
        "sns.heatmap(corrmat, vmax = .8, square = True)\n",
        "plt.show()"
      ],
      "metadata": {
        "id": "nNw_z1jwYcL3"
      },
      "execution_count": null,
      "outputs": []
    },
    {
      "cell_type": "code",
      "source": [
        "# determine the number of fraud cases\n",
        "fraud = data[data['Class'] == 1]\n",
        "valid = data[data['Class'] == 0]\n",
        "\n",
        "outlier_fraction = len(fraud) / float(len(valid))\n",
        "print(outlier_fraction)\n",
        "\n",
        "print('Fraud Cases: {}'.format(len(fraud)))\n",
        "print('Valid Cases: {}'.format(len(valid)))"
      ],
      "metadata": {
        "id": "CBkdr2MNYcQ5"
      },
      "execution_count": null,
      "outputs": []
    },
    {
      "cell_type": "code",
      "source": [
        "# get the columns from the dataframe\n",
        "columns = data.columns.tolist()\n",
        "\n",
        "# filter the columns to remove the data we do not want\n",
        "columns = [c for c in columns if c not in ['Class']]\n",
        "\n",
        "# store the variable we will be predicting on which is class\n",
        "target = 'Class'\n",
        "\n",
        "# X includes everything except our class column\n",
        "X = data[columns]\n",
        "# Y includes all the class labels for each sample\n",
        "# this is also one-dimensional\n",
        "Y = data[target]\n",
        "\n",
        "# print the shapes of X and Y\n",
        "print(X.shape)\n",
        "print(Y.shape)"
      ],
      "metadata": {
        "id": "e38MMJRiYgiC"
      },
      "execution_count": null,
      "outputs": []
    },
    {
      "cell_type": "code",
      "source": [
        "from sklearn.metrics import classification_report, accuracy_score\n",
        "from sklearn.ensemble import IsolationForest\n",
        "from sklearn.neighbors import LocalOutlierFactor"
      ],
      "metadata": {
        "id": "-Ij5z-2EYglD"
      },
      "execution_count": null,
      "outputs": []
    },
    {
      "cell_type": "code",
      "source": [
        "# define a random state\n",
        "state = 1\n",
        "\n",
        "# define the outlier detection methods\n",
        "classifiers = {\n",
        "    # contamination is the number of outliers we think there are\n",
        "    'Isolation Forest': IsolationForest(max_samples = len(X),\n",
        "                                       contamination = outlier_fraction,\n",
        "                                       random_state = state),\n",
        "    # number of neighbors to consider, the higher the percentage of outliers the higher you want to make this number\n",
        "    'Local Outlier Factor': LocalOutlierFactor(\n",
        "    n_neighbors = 20,\n",
        "    contamination = outlier_fraction)\n",
        "}"
      ],
      "metadata": {
        "id": "mZie0mxTYgp-"
      },
      "execution_count": null,
      "outputs": []
    },
    {
      "cell_type": "code",
      "source": [
        "n_outliers = len(fraud)\n",
        "\n",
        "for i, (clf_name, clf) in enumerate(classifiers.items()):\n",
        "\n",
        "    # fit the data and tag outliers\n",
        "    if clf_name == 'Local Outlier Factor':\n",
        "        y_pred = clf.fit_predict(X)\n",
        "        scores_pred = clf.negative_outlier_factor_\n",
        "    else:\n",
        "        clf.fit(X)\n",
        "        scores_pred = clf.decision_function(X)\n",
        "        y_pred = clf.predict(X)\n",
        "\n",
        "    # reshape the prediction values to 0 for valid and 1 for fraud\n",
        "    y_pred[y_pred == 1] = 0\n",
        "    y_pred[y_pred == -1] = 1\n",
        "\n",
        "    # calculate the number of errors\n",
        "    n_errors = (y_pred != Y).sum()\n",
        "\n",
        "    # classification matrix\n",
        "    print('{}: {}'.format(clf_name, n_errors))\n",
        "    print(accuracy_score(Y, y_pred))\n",
        "    print(classification_report(Y, y_pred))"
      ],
      "metadata": {
        "id": "leHbGiJ7Ygrj"
      },
      "execution_count": null,
      "outputs": []
    },
    {
      "cell_type": "code",
      "source": [
        "ToyStory_data = groupedby_movieName.get_group('Toy Story 2 (1999)')\n",
        "ToyStory_data.shape"
      ],
      "metadata": {
        "id": "dr4OYv5bYZch"
      },
      "execution_count": null,
      "outputs": []
    },
    {
      "cell_type": "code",
      "source": [
        "#Find and visualize the user rating of the movie “Toy Story”\n",
        "plt.figure(figsize=(10,10))\n",
        "plt.scatter(ToyStory_data['MovieName'],ToyStory_data['Ratings'])\n",
        "plt.title('Plot showing  the user rating of the movie “Toy Story”')\n",
        "plt.show()"
      ],
      "metadata": {
        "id": "pLH2beRpYTz0"
      },
      "execution_count": null,
      "outputs": []
    },
    {
      "cell_type": "code",
      "source": [
        "#Find and visualize the viewership of the movie “Toy Story” by age group\n",
        "ToyStory_data[['MovieName','age_group']]"
      ],
      "metadata": {
        "id": "JbnrkFdNYT3r"
      },
      "execution_count": null,
      "outputs": []
    },
    {
      "cell_type": "code",
      "source": [
        "#Find and visualize the top 25 movies by viewership rating\n",
        "top_25 = df[25:]\n",
        "top_25['Ratings'].value_counts().plot(kind='barh',alpha=0.6,figsize=(7,7))\n",
        "plt.show()"
      ],
      "metadata": {
        "id": "eqKNS2WAY8Zn"
      },
      "execution_count": null,
      "outputs": []
    },
    {
      "cell_type": "code",
      "source": [
        "#Visualize the rating data by user of user id = 2696\n",
        "userid_2696 = groupedby_uid.get_group(2696)\n",
        "userid_2696[['UserID','Ratings']]"
      ],
      "metadata": {
        "id": "41qx0vfIY8cp"
      },
      "execution_count": null,
      "outputs": []
    },
    {
      "cell_type": "code",
      "source": [
        "#First 500 extracted records\n",
        "first_500 = df[500:]\n",
        "first_500.dropna(inplace=True)"
      ],
      "metadata": {
        "id": "IzmEDPw2Y8f7"
      },
      "execution_count": null,
      "outputs": []
    },
    {
      "cell_type": "code",
      "source": [
        "#Use the following features:movie id,age,occupation\n",
        "features = first_500[['MovieID','Age','Occupation']].values"
      ],
      "metadata": {
        "id": "lAG52GnaY8im"
      },
      "execution_count": null,
      "outputs": []
    },
    {
      "cell_type": "code",
      "source": [
        "#Use rating as label\n",
        "labels = first_500[['Ratings']].values"
      ],
      "metadata": {
        "id": "_sVZ-sacY8n2"
      },
      "execution_count": null,
      "outputs": []
    },
    {
      "cell_type": "code",
      "source": [
        "#Create train and test data set\n",
        "train, test, train_labels, test_labels = train_test_split(features,labels,test_size=0.33,random_state=42)"
      ],
      "metadata": {
        "id": "C1WrrkGXYT6N"
      },
      "execution_count": null,
      "outputs": []
    },
    {
      "cell_type": "code",
      "source": [
        "#Create a histogram for movie\n",
        "df.Age.plot.hist(bins=25)\n",
        "plt.title(\"Movie & Rating\")\n",
        "plt.ylabel('MovieID')\n",
        "plt.xlabel('Ratings')"
      ],
      "metadata": {
        "id": "nr3IMtuzZHq6"
      },
      "execution_count": null,
      "outputs": []
    },
    {
      "cell_type": "code",
      "source": [
        "#Create a histogram for age\n",
        "df.Age.plot.hist(bins=25)\n",
        "plt.title(\"Age & Rating\")\n",
        "plt.ylabel('Age')\n",
        "plt.xlabel('Ratings')"
      ],
      "metadata": {
        "id": "b1s6TU8pZHvA"
      },
      "execution_count": null,
      "outputs": []
    },
    {
      "cell_type": "code",
      "source": [
        "#Create a histogram for occupation\n",
        "df.Age.plot.hist(bins=25)\n",
        "plt.title(\"Occupation & Rating\")\n",
        "plt.ylabel('Occupation')\n",
        "plt.xlabel('Ratings')"
      ],
      "metadata": {
        "id": "WJWGpptKZHyW"
      },
      "execution_count": null,
      "outputs": []
    },
    {
      "cell_type": "code",
      "source": [
        "# Logistic Regression\n",
        "\n",
        "logreg = LogisticRegression()\n",
        "logreg.fit(train, train_labels)\n",
        "Y_pred = logreg.predict(test)\n",
        "acc_log = round(logreg.score(train, train_labels) * 100, 2)\n",
        "acc_log"
      ],
      "metadata": {
        "id": "MjfslOdFZOQI"
      },
      "execution_count": null,
      "outputs": []
    },
    {
      "cell_type": "code",
      "source": [
        "# Support Vector Machines\n",
        "\n",
        "svc = SVC()\n",
        "svc.fit(train, train_labels)\n",
        "Y_pred = svc.predict(test)\n",
        "acc_svc = round(svc.score(train, train_labels) * 100, 2)\n",
        "acc_svc"
      ],
      "metadata": {
        "id": "XecG7RnRZOT_"
      },
      "execution_count": null,
      "outputs": []
    },
    {
      "cell_type": "code",
      "source": [
        "# K Nearest Neighbors Classifier\n",
        "\n",
        "knn = KNeighborsClassifier(n_neighbors = 3)\n",
        "knn.fit(train, train_labels)\n",
        "Y_pred = knn.predict(test)\n",
        "acc_knn = round(knn.score(train, train_labels) * 100, 2)\n",
        "acc_knn"
      ],
      "metadata": {
        "id": "X7PirkgkZOXW"
      },
      "execution_count": null,
      "outputs": []
    },
    {
      "cell_type": "code",
      "source": [
        "# Gaussian Naive Bayes\n",
        "\n",
        "gaussian = GaussianNB()\n",
        "gaussian.fit(train, train_labels)\n",
        "Y_pred = gaussian.predict(test)\n",
        "acc_gaussian = round(gaussian.score(train, train_labels) * 100, 2)\n",
        "acc_gaussian"
      ],
      "metadata": {
        "id": "NKcVbpt9ZUIX"
      },
      "execution_count": null,
      "outputs": []
    },
    {
      "cell_type": "code",
      "source": [
        "# Perceptron\n",
        "\n",
        "perceptron = Perceptron()\n",
        "perceptron.fit(train, train_labels)\n",
        "Y_pred = perceptron.predict(test)\n",
        "acc_perceptron = round(perceptron.score(train, train_labels) * 100, 2)\n",
        "acc_perceptron"
      ],
      "metadata": {
        "id": "zMnHhM1oZULa"
      },
      "execution_count": null,
      "outputs": []
    },
    {
      "cell_type": "code",
      "source": [
        "# Linear SVC\n",
        "\n",
        "linear_svc = LinearSVC()\n",
        "linear_svc.fit(train, train_labels)\n",
        "Y_pred = linear_svc.predict(test)\n",
        "acc_linear_svc = round(linear_svc.score(train, train_labels) * 100, 2)\n",
        "acc_linear_svc"
      ],
      "metadata": {
        "id": "wbj4aigOZUOV"
      },
      "execution_count": null,
      "outputs": []
    },
    {
      "cell_type": "code",
      "source": [
        "# Stochastic Gradient Descent\n",
        "\n",
        "sgd = SGDClassifier()\n",
        "sgd.fit(train, train_labels)\n",
        "Y_pred = sgd.predict(test)\n",
        "acc_sgd = round(sgd.score(train, train_labels) * 100, 2)\n",
        "acc_sgd"
      ],
      "metadata": {
        "id": "YDaJmHzCZUR7"
      },
      "execution_count": null,
      "outputs": []
    },
    {
      "cell_type": "code",
      "source": [
        "# Decision Tree\n",
        "\n",
        "decision_tree = DecisionTreeClassifier()\n",
        "decision_tree.fit(train, train_labels)\n",
        "Y_pred = decision_tree.predict(test)\n",
        "acc_decision_tree = round(decision_tree.score(train, train_labels) * 100, 2)\n",
        "acc_decision_tree"
      ],
      "metadata": {
        "id": "4L6eJs-8ZH07"
      },
      "execution_count": null,
      "outputs": []
    },
    {
      "cell_type": "code",
      "source": [
        "# Random Forest\n",
        "\n",
        "random_forest = RandomForestClassifier(n_estimators=100)\n",
        "random_forest.fit(train, train_labels)\n",
        "Y_pred = random_forest.predict(test)\n",
        "random_forest.score(train, train_labels)\n",
        "acc_random_forest = round(random_forest.score(train, train_labels) * 100, 2)\n",
        "acc_random_forest"
      ],
      "metadata": {
        "id": "Z1SI7xj8ZeLk"
      },
      "execution_count": null,
      "outputs": []
    },
    {
      "cell_type": "code",
      "source": [
        "models = pd.DataFrame({\n",
        "    'Model': ['Support Vector Machines', 'KNN', 'Logistic Regression',\n",
        "              'Random Forest', 'Naive Bayes', 'Perceptron',\n",
        "              'Stochastic Gradient Decent', 'Linear SVC',\n",
        "              'Decision Tree'],\n",
        "    'Score': [acc_svc, acc_knn, acc_log,\n",
        "              acc_random_forest, acc_gaussian, acc_perceptron,\n",
        "              acc_sgd, acc_linear_svc, acc_decision_tree]})\n",
        "models.sort_values(by='Score', ascending=False)"
      ],
      "metadata": {
        "id": "kxQHHQwgZeOo"
      },
      "execution_count": null,
      "outputs": []
    },
    {
      "cell_type": "code",
      "source": [],
      "metadata": {
        "id": "BSpJcdajZeRr"
      },
      "execution_count": null,
      "outputs": []
    },
    {
      "cell_type": "code",
      "source": [],
      "metadata": {
        "id": "2HrGaFsXZeUp"
      },
      "execution_count": null,
      "outputs": []
    },
    {
      "cell_type": "code",
      "source": [],
      "metadata": {
        "id": "N3V89Zm2ZeZz"
      },
      "execution_count": null,
      "outputs": []
    },
    {
      "cell_type": "code",
      "source": [],
      "metadata": {
        "id": "wEXrGIv3Zebi"
      },
      "execution_count": null,
      "outputs": []
    }
  ]
}