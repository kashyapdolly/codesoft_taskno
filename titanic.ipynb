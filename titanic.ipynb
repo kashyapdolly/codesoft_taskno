{
  "cells": [
    {
      "cell_type": "code",
      "execution_count": null,
      "metadata": {
        "id": "Hb8GAz3Zalx0"
      },
      "outputs": [],
      "source": [
        "import warnings\n",
        "import numpy as np\n",
        "import pandas as pd\n",
        "import matplotlib.pyplot as plt\n",
        "import seaborn as sns\n",
        "plt.style.use('fivethirtyeight')\n",
        "%matplotlib inline\n",
        "warnings.filterwarnings('ignore')"
      ]
    },
    {
      "cell_type": "code",
      "execution_count": null,
      "metadata": {
        "id": "-HnFB9ija_IY"
      },
      "outputs": [],
      "source": []
    },
    {
      "cell_type": "code",
      "execution_count": null,
      "metadata": {
        "colab": {
          "base_uri": "https://localhost:8080/"
        },
        "id": "ddE4k4vTrLgY",
        "outputId": "245f8ec2-abb0-4b95-b761-f04acc00cc8a"
      },
      "outputs": [
        {
          "name": "stdout",
          "output_type": "stream",
          "text": [
            "Drive already mounted at /content/drive; to attempt to forcibly remount, call drive.mount(\"/content/drive\", force_remount=True).\n"
          ]
        }
      ],
      "source": [
        "from google.colab import drive\n",
        "drive.mount('/content/drive')\n",
        "train = pd.read_csv('/content/drive/My Drive/collab_data/Intership_data/titanic_train.csv')\n",
        "test = pd.read_csv('/content/drive/My Drive/collab_data/Intership_data/titanic_test.csv')"
      ]
    },
    {
      "cell_type": "code",
      "execution_count": null,
      "metadata": {
        "colab": {
          "base_uri": "https://localhost:8080/"
        },
        "id": "8XPpdrqfa_MR",
        "outputId": "41791bd3-596c-4bc5-be4b-5daca4fb18c1"
      },
      "outputs": [
        {
          "name": "stdout",
          "output_type": "stream",
          "text": [
            "<class 'pandas.core.frame.DataFrame'>\n",
            "RangeIndex: 891 entries, 0 to 890\n",
            "Data columns (total 12 columns):\n",
            " #   Column       Non-Null Count  Dtype  \n",
            "---  ------       --------------  -----  \n",
            " 0   PassengerId  891 non-null    int64  \n",
            " 1   Survived     891 non-null    int64  \n",
            " 2   Pclass       891 non-null    int64  \n",
            " 3   Name         891 non-null    object \n",
            " 4   Sex          891 non-null    object \n",
            " 5   Age          714 non-null    float64\n",
            " 6   SibSp        891 non-null    int64  \n",
            " 7   Parch        891 non-null    int64  \n",
            " 8   Ticket       891 non-null    object \n",
            " 9   Fare         891 non-null    float64\n",
            " 10  Cabin        204 non-null    object \n",
            " 11  Embarked     889 non-null    object \n",
            "dtypes: float64(2), int64(5), object(5)\n",
            "memory usage: 83.7+ KB\n"
          ]
        }
      ],
      "source": [
        "train.info()"
      ]
    },
    {
      "cell_type": "code",
      "execution_count": null,
      "metadata": {
        "colab": {
          "base_uri": "https://localhost:8080/"
        },
        "id": "-d9qxIL-a_P5",
        "outputId": "74d35ecc-6b1a-44dd-d069-47df46816b85"
      },
      "outputs": [
        {
          "data": {
            "text/plain": [
              "PassengerId      0\n",
              "Survived         0\n",
              "Pclass           0\n",
              "Name             0\n",
              "Sex              0\n",
              "Age            177\n",
              "SibSp            0\n",
              "Parch            0\n",
              "Ticket           0\n",
              "Fare             0\n",
              "Cabin          687\n",
              "Embarked         2\n",
              "dtype: int64"
            ]
          },
          "execution_count": 8,
          "metadata": {},
          "output_type": "execute_result"
        }
      ],
      "source": [
        "train.isnull().sum()"
      ]
    },
    {
      "cell_type": "code",
      "execution_count": null,
      "metadata": {
        "colab": {
          "base_uri": "https://localhost:8080/",
          "height": 648
        },
        "id": "V8BuhlvcbaFo",
        "outputId": "f8a4e1ac-a95c-451c-894e-0ea3ee11e7ab"
      },
      "outputs": [
        {
          "ename": "TypeError",
          "evalue": "ignored",
          "output_type": "error",
          "traceback": [
            "\u001b[0;31m---------------------------------------------------------------------------\u001b[0m",
            "\u001b[0;31mTypeError\u001b[0m                                 Traceback (most recent call last)",
            "\u001b[0;32m<ipython-input-9-841093f0725c>\u001b[0m in \u001b[0;36m<cell line: 6>\u001b[0;34m()\u001b[0m\n\u001b[1;32m      4\u001b[0m \u001b[0max\u001b[0m\u001b[0;34m[\u001b[0m\u001b[0;36m0\u001b[0m\u001b[0;34m]\u001b[0m\u001b[0;34m.\u001b[0m\u001b[0mset_title\u001b[0m\u001b[0;34m(\u001b[0m\u001b[0;34m'Survivors (1) and the dead (0)'\u001b[0m\u001b[0;34m)\u001b[0m\u001b[0;34m\u001b[0m\u001b[0;34m\u001b[0m\u001b[0m\n\u001b[1;32m      5\u001b[0m \u001b[0max\u001b[0m\u001b[0;34m[\u001b[0m\u001b[0;36m0\u001b[0m\u001b[0;34m]\u001b[0m\u001b[0;34m.\u001b[0m\u001b[0mset_ylabel\u001b[0m\u001b[0;34m(\u001b[0m\u001b[0;34m''\u001b[0m\u001b[0;34m)\u001b[0m\u001b[0;34m\u001b[0m\u001b[0;34m\u001b[0m\u001b[0m\n\u001b[0;32m----> 6\u001b[0;31m \u001b[0msns\u001b[0m\u001b[0;34m.\u001b[0m\u001b[0mcountplot\u001b[0m\u001b[0;34m(\u001b[0m\u001b[0;34m'Survived'\u001b[0m\u001b[0;34m,\u001b[0m \u001b[0mdata\u001b[0m\u001b[0;34m=\u001b[0m\u001b[0mtrain\u001b[0m\u001b[0;34m,\u001b[0m \u001b[0max\u001b[0m\u001b[0;34m=\u001b[0m\u001b[0max\u001b[0m\u001b[0;34m[\u001b[0m\u001b[0;36m1\u001b[0m\u001b[0;34m]\u001b[0m\u001b[0;34m)\u001b[0m\u001b[0;34m\u001b[0m\u001b[0;34m\u001b[0m\u001b[0m\n\u001b[0m\u001b[1;32m      7\u001b[0m \u001b[0max\u001b[0m\u001b[0;34m[\u001b[0m\u001b[0;36m1\u001b[0m\u001b[0;34m]\u001b[0m\u001b[0;34m.\u001b[0m\u001b[0mset_ylabel\u001b[0m\u001b[0;34m(\u001b[0m\u001b[0;34m'Quantity'\u001b[0m\u001b[0;34m)\u001b[0m\u001b[0;34m\u001b[0m\u001b[0;34m\u001b[0m\u001b[0m\n\u001b[1;32m      8\u001b[0m \u001b[0max\u001b[0m\u001b[0;34m[\u001b[0m\u001b[0;36m1\u001b[0m\u001b[0;34m]\u001b[0m\u001b[0;34m.\u001b[0m\u001b[0mset_title\u001b[0m\u001b[0;34m(\u001b[0m\u001b[0;34m'Survivors (1) and the dead (0)'\u001b[0m\u001b[0;34m)\u001b[0m\u001b[0;34m\u001b[0m\u001b[0;34m\u001b[0m\u001b[0m\n",
            "\u001b[0;31mTypeError\u001b[0m: countplot() got multiple values for argument 'data'"
          ]
        },
        {
          "data": {
            "image/png": "[encoded data removed]",
            "text/plain": [
              "<Figure size 1200x400 with 2 Axes>"
            ]
          },
          "metadata": {},
          "output_type": "display_data"
        }
      ],
      "source": [
        "f, ax = plt.subplots(1, 2, figsize=(12, 4))\n",
        "train['Survived'].value_counts().plot.pie(\n",
        "    explode=[0, 0.1], autopct='%1.1f%%', ax=ax[0], shadow=False)\n",
        "ax[0].set_title('Survivors (1) and the dead (0)')\n",
        "ax[0].set_ylabel('')\n",
        "sns.countplot('Survived', data=train, ax=ax[1])\n",
        "ax[1].set_ylabel('Quantity')\n",
        "ax[1].set_title('Survivors (1) and the dead (0)')\n",
        "plt.show()"
      ]
    },
    {
      "cell_type": "code",
      "execution_count": null,
      "metadata": {
        "id": "kaLebb6MbaIt"
      },
      "outputs": [],
      "source": [
        "# Create a new column cabinbool indicating\n",
        "# if the cabin value was given or was NaN\n",
        "train[\"CabinBool\"] = (train[\"Cabin\"].notnull().astype('int'))\n",
        "test[\"CabinBool\"] = (test[\"Cabin\"].notnull().astype('int'))\n",
        "\n",
        "# Delete the column 'Cabin' from test\n",
        "# and train dataset\n",
        "train = train.drop(['Cabin'], axis=1)\n",
        "test = test.drop(['Cabin'], axis=1)"
      ]
    },
    {
      "cell_type": "code",
      "execution_count": null,
      "metadata": {
        "id": "xCS2GL1RbaLr"
      },
      "outputs": [],
      "source": [
        "\n",
        "train = train.drop(['Ticket'], axis=1)\n",
        "test = test.drop(['Ticket'], axis=1)"
      ]
    },
    {
      "cell_type": "code",
      "execution_count": null,
      "metadata": {
        "id": "gEEv_EZ1baPP"
      },
      "outputs": [],
      "source": [
        "\n",
        "# replacing the missing values in\n",
        "# the Embarked feature with S\n",
        "train = train.fillna({\"Embarked\": \"S\"})"
      ]
    },
    {
      "cell_type": "code",
      "execution_count": null,
      "metadata": {
        "id": "Yh_FYzRPa_TT"
      },
      "outputs": [],
      "source": [
        "# sort the ages into logical categories\n",
        "train[\"Age\"] = train[\"Age\"].fillna(-0.5)\n",
        "test[\"Age\"] = test[\"Age\"].fillna(-0.5)\n",
        "bins = [-1, 0, 5, 12, 18, 24, 35, 60, np.inf]\n",
        "labels = ['Unknown', 'Baby', 'Child', 'Teenager',\n",
        "          'Student', 'Young Adult', 'Adult', 'Senior']\n",
        "train['AgeGroup'] = pd.cut(train[\"Age\"], bins, labels=labels)\n",
        "test['AgeGroup'] = pd.cut(test[\"Age\"], bins, labels=labels)"
      ]
    },
    {
      "cell_type": "code",
      "execution_count": null,
      "metadata": {
        "id": "zhtYKNWya_Vh"
      },
      "outputs": [],
      "source": [
        "# create a combined group of both datasets\n",
        "combine = [train, test]\n",
        "\n",
        "# extract a title for each Name in the\n",
        "# train and test datasets\n",
        "for dataset in combine:\n",
        "\tdataset['Title'] = dataset.Name.str.extract(' ([A-Za-z]+)\\.', expand=False)\n",
        "\n",
        "pd.crosstab(train['Title'], train['Sex'])\n",
        "\n",
        "# replace various titles with more common names\n",
        "for dataset in combine:\n",
        "\tdataset['Title'] = dataset['Title'].replace(['Lady', 'Capt', 'Col',\n",
        "\t\t\t\t\t\t\t\t\t\t\t\t'Don', 'Dr', 'Major',\n",
        "\t\t\t\t\t\t\t\t\t\t\t\t'Rev', 'Jonkheer', 'Dona'],\n",
        "\t\t\t\t\t\t\t\t\t\t\t\t'Rare')\n",
        "\n",
        "\tdataset['Title'] = dataset['Title'].replace(\n",
        "\t\t['Countess', 'Lady', 'Sir'], 'Royal')\n",
        "\tdataset['Title'] = dataset['Title'].replace('Mlle', 'Miss')\n",
        "\tdataset['Title'] = dataset['Title'].replace('Ms', 'Miss')\n",
        "\tdataset['Title'] = dataset['Title'].replace('Mme', 'Mrs')\n",
        "\n",
        "train[['Title', 'Survived']].groupby(['Title'], as_index=False).mean()\n",
        "\n",
        "# map each of the title groups to a numerical value\n",
        "title_mapping = {\"Mr\": 1, \"Miss\": 2, \"Mrs\": 3,\n",
        "\t\t\t\t\"Master\": 4, \"Royal\": 5, \"Rare\": 6}\n",
        "for dataset in combine:\n",
        "\tdataset['Title'] = dataset['Title'].map(title_mapping)\n",
        "\tdataset['Title'] = dataset['Title'].fillna(0)\n"
      ]
    },
    {
      "cell_type": "code",
      "execution_count": null,
      "metadata": {
        "id": "_mAL_tWob62v"
      },
      "outputs": [],
      "source": [
        "mr_age = train[train[\"Title\"] == 1][\"AgeGroup\"].mode() # Young Adult\n",
        "miss_age = train[train[\"Title\"] == 2][\"AgeGroup\"].mode() # Student\n",
        "mrs_age = train[train[\"Title\"] == 3][\"AgeGroup\"].mode() # Adult\n",
        "master_age = train[train[\"Title\"] == 4][\"AgeGroup\"].mode() # Baby\n",
        "royal_age = train[train[\"Title\"] == 5][\"AgeGroup\"].mode() # Adult\n",
        "rare_age = train[train[\"Title\"] == 6][\"AgeGroup\"].mode() # Adult\n",
        "\n",
        "age_title_mapping = {1: \"Young Adult\", 2: \"Student\",\n",
        "\t\t\t\t\t3: \"Adult\", 4: \"Baby\", 5: \"Adult\", 6: \"Adult\"}\n",
        "\n",
        "for x in range(len(train[\"AgeGroup\"])):\n",
        "\tif train[\"AgeGroup\"][x] == \"Unknown\":\n",
        "\t\ttrain[\"AgeGroup\"][x] = age_title_mapping[train[\"Title\"][x]]\n",
        "\n",
        "for x in range(len(test[\"AgeGroup\"])):\n",
        "\tif test[\"AgeGroup\"][x] == \"Unknown\":\n",
        "\t\ttest[\"AgeGroup\"][x] = age_title_mapping[test[\"Title\"][x]]\n"
      ]
    },
    {
      "cell_type": "code",
      "execution_count": null,
      "metadata": {
        "id": "Jq4T20f3b66X"
      },
      "outputs": [],
      "source": [
        "# map each Age value to a numerical value\n",
        "age_mapping = {'Baby': 1, 'Child': 2, 'Teenager': 3,\n",
        "\t\t\t'Student': 4, 'Young Adult': 5, 'Adult': 6,\n",
        "\t\t\t'Senior': 7}\n",
        "train['AgeGroup'] = train['AgeGroup'].map(age_mapping)\n",
        "test['AgeGroup'] = test['AgeGroup'].map(age_mapping)\n",
        "\n",
        "train.head()\n",
        "\n",
        "# dropping the Age feature for now, might change\n",
        "train = train.drop(['Age'], axis=1)\n",
        "test = test.drop(['Age'], axis=1)\n"
      ]
    },
    {
      "cell_type": "code",
      "execution_count": null,
      "metadata": {
        "id": "GYZ-05nccB5Y"
      },
      "outputs": [],
      "source": [
        "train = train.drop(['Name'], axis=1)\n",
        "test = test.drop(['Name'], axis=1)\n"
      ]
    },
    {
      "cell_type": "code",
      "execution_count": null,
      "metadata": {
        "id": "P39roFdlcCBO"
      },
      "outputs": [],
      "source": [
        "sex_mapping = {\"male\": 0, \"female\": 1}\n",
        "train['Sex'] = train['Sex'].map(sex_mapping)\n",
        "test['Sex'] = test['Sex'].map(sex_mapping)\n",
        "\n",
        "embarked_mapping = {\"S\": 1, \"C\": 2, \"Q\": 3}\n",
        "train['Embarked'] = train['Embarked'].map(embarked_mapping)\n",
        "test['Embarked'] = test['Embarked'].map(embarked_mapping)\n"
      ]
    },
    {
      "cell_type": "code",
      "execution_count": null,
      "metadata": {
        "id": "gW1lYNsxcCIN"
      },
      "outputs": [],
      "source": [
        "for x in range(len(test[\"Fare\"])):\n",
        "\tif pd.isnull(test[\"Fare\"][x]):\n",
        "\t\tpclass = test[\"Pclass\"][x] # Pclass = 3\n",
        "\t\ttest[\"Fare\"][x] = round(\n",
        "\t\t\ttrain[train[\"Pclass\"] == pclass][\"Fare\"].mean(), 4)\n",
        "\n",
        "# map Fare values into groups of\n",
        "# numerical values\n",
        "train['FareBand'] = pd.qcut(train['Fare'], 4,\n",
        "\t\t\t\t\t\t\tlabels=[1, 2, 3, 4])\n",
        "test['FareBand'] = pd.qcut(test['Fare'], 4,\n",
        "\t\t\t\t\t\tlabels=[1, 2, 3, 4])\n",
        "\n",
        "# drop Fare values\n",
        "train = train.drop(['Fare'], axis=1)\n",
        "test = test.drop(['Fare'], axis=1)\n"
      ]
    },
    {
      "cell_type": "code",
      "execution_count": null,
      "metadata": {
        "id": "-OzTP0GccCKy"
      },
      "outputs": [],
      "source": [
        "from sklearn.model_selection import train_test_split\n",
        "\n",
        "# Drop the Survived and PassengerId\n",
        "# column from the trainset\n",
        "predictors = train.drop(['Survived', 'PassengerId'], axis=1)\n",
        "target = train[\"Survived\"]\n",
        "x_train, x_val, y_train, y_val = train_test_split(\n",
        "\tpredictors, target, test_size=0.2, random_state=0)\n"
      ]
    },
    {
      "cell_type": "code",
      "execution_count": null,
      "metadata": {
        "colab": {
          "base_uri": "https://localhost:8080/"
        },
        "id": "i4HZRqplcCOF",
        "outputId": "09cb9999-14a5-478c-ae4a-7fefa81474a6"
      },
      "outputs": [
        {
          "name": "stdout",
          "output_type": "stream",
          "text": [
            "83.24\n"
          ]
        }
      ],
      "source": [
        "from sklearn.ensemble import RandomForestClassifier\n",
        "from sklearn.metrics import accuracy_score\n",
        "\n",
        "randomforest = RandomForestClassifier()\n",
        "\n",
        "# Fit the training data along with its output\n",
        "randomforest.fit(x_train, y_train)\n",
        "y_pred = randomforest.predict(x_val)\n",
        "\n",
        "# Find the accuracy score of the model\n",
        "acc_randomforest = round(accuracy_score(y_pred, y_val) * 100, 2)\n",
        "print(acc_randomforest)\n"
      ]
    },
    {
      "cell_type": "code",
      "execution_count": null,
      "metadata": {
        "id": "UWCPFnOKb69X"
      },
      "outputs": [],
      "source": [
        "ids = test['PassengerId']\n",
        "predictions = randomforest.predict(test.drop('PassengerId', axis=1))\n",
        "\n",
        "# set the output as a dataframe and convert\n",
        "# to csv file named resultfile.csv\n",
        "output = pd.DataFrame({'PassengerId': ids, 'Survived': predictions})\n",
        "output.to_csv('resultfile.csv', index=False)\n"
      ]
    }
  ],
  "metadata": {
    "colab": {
      "provenance": []
    },
    "kernelspec": {
      "display_name": "Python 3",
      "name": "python3"
    },
    "language_info": {
      "name": "python"
    }
  },
  "nbformat": 4,
  "nbformat_minor": 0
}
